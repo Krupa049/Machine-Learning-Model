{
  "nbformat": 4,
  "nbformat_minor": 0,
  "metadata": {
    "colab": {
      "provenance": [],
      "authorship_tag": "ABX9TyOFiLddslssm7AiKmFfQXdq",
      "include_colab_link": true
    },
    "kernelspec": {
      "name": "python3",
      "display_name": "Python 3"
    },
    "language_info": {
      "name": "python"
    }
  },
  "cells": [
    {
      "cell_type": "markdown",
      "metadata": {
        "id": "view-in-github",
        "colab_type": "text"
      },
      "source": [
        "<a href=\"https://colab.research.google.com/github/Krupa049/Machine-Learning-Model/blob/main/ML_Model.ipynb\" target=\"_parent\"><img src=\"https://colab.research.google.com/assets/colab-badge.svg\" alt=\"Open In Colab\"/></a>"
      ]
    },
    {
      "cell_type": "code",
      "execution_count": 1,
      "metadata": {
        "colab": {
          "base_uri": "https://localhost:8080/"
        },
        "id": "sJMe9EVZ4qCn",
        "outputId": "c5a44c1b-db04-4daa-cc49-272ae5f176c2"
      },
      "outputs": [
        {
          "output_type": "stream",
          "name": "stdout",
          "text": [
            "Final Model Accuracy: 1.0\n"
          ]
        }
      ],
      "source": [
        "from pyspark.sql import SparkSession\n",
        "from pyspark.ml import Pipeline\n",
        "from pyspark.ml.feature import StringIndexer, OneHotEncoder, VectorAssembler, StandardScaler\n",
        "from pyspark.ml.classification import RandomForestClassifier\n",
        "from pyspark.ml.evaluation import MulticlassClassificationEvaluator\n",
        "\n",
        "# Initialize Spark session\n",
        "spark = SparkSession.builder \\\n",
        "    .appName(\"UserBehaviorPipelineWithOptimization\") \\\n",
        "    .getOrCreate()\n",
        "\n",
        "# Load the dataset\n",
        "file_path = \"/content/user_behavior_dataset.csv\"  # Update this path if necessary\n",
        "data = spark.read.csv(file_path, header=True, inferSchema=True)\n",
        "\n",
        "# Rename the label column for easier access\n",
        "data = data.withColumnRenamed(\"User Behavior Class\", \"label\")\n",
        "\n",
        "# Split data for training and testing\n",
        "train_data, test_data = data.randomSplit([0.8, 0.2], seed=1234)\n",
        "\n",
        "# StringIndexers for each categorical column\n",
        "device_model_indexer = StringIndexer(inputCol=\"Device Model\", outputCol=\"DeviceModelIndex\")\n",
        "os_indexer = StringIndexer(inputCol=\"Operating System\", outputCol=\"OSIndex\")\n",
        "gender_indexer = StringIndexer(inputCol=\"Gender\", outputCol=\"GenderIndex\")\n",
        "\n",
        "# One-Hot Encoding for indexed columns\n",
        "device_model_encoder = OneHotEncoder(inputCol=\"DeviceModelIndex\", outputCol=\"DeviceModelVec\")\n",
        "os_encoder = OneHotEncoder(inputCol=\"OSIndex\", outputCol=\"OSVec\")\n",
        "gender_encoder = OneHotEncoder(inputCol=\"GenderIndex\", outputCol=\"GenderVec\")\n",
        "\n",
        "# Define the numeric columns\n",
        "numeric_features = [\n",
        "    \"App Usage Time (min/day)\",\n",
        "    \"Screen On Time (hours/day)\",\n",
        "    \"Battery Drain (mAh/day)\",\n",
        "    \"Number of Apps Installed\",\n",
        "    \"Data Usage (MB/day)\",\n",
        "    \"Age\"\n",
        "]\n",
        "\n",
        "# Assemble all feature columns into a single vector\n",
        "vector_assembler = VectorAssembler(\n",
        "    inputCols=numeric_features + [\"DeviceModelVec\", \"OSVec\", \"GenderVec\"],\n",
        "    outputCol=\"features\"\n",
        ")\n",
        "\n",
        "# Standardize the feature vector\n",
        "scaler = StandardScaler(inputCol=\"features\", outputCol=\"scaledFeatures\")\n",
        "\n",
        "# Initialize the classifier with the correct label column\n",
        "rf_classifier = RandomForestClassifier(labelCol=\"label\", featuresCol=\"scaledFeatures\")\n",
        "\n",
        "# Create the full pipeline\n",
        "full_pipeline = Pipeline(stages=[\n",
        "    device_model_indexer, os_indexer, gender_indexer,\n",
        "    device_model_encoder, os_encoder, gender_encoder,\n",
        "    vector_assembler, scaler, rf_classifier\n",
        "])\n",
        "\n",
        "# Train the final model\n",
        "final_model = full_pipeline.fit(train_data)\n",
        "\n",
        "# Evaluate the final model on the test set\n",
        "predictions = final_model.transform(test_data)\n",
        "evaluator = MulticlassClassificationEvaluator(labelCol=\"label\", metricName=\"accuracy\")\n",
        "final_accuracy = evaluator.evaluate(predictions)\n",
        "print(f\"Final Model Accuracy: {final_accuracy}\")\n"
      ]
    }
  ]
}